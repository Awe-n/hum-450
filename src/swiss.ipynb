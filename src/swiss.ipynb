{
 "cells": [
  {
   "cell_type": "code",
   "execution_count": 25,
   "metadata": {},
   "outputs": [
    {
     "name": "stdout",
     "output_type": "stream",
     "text": [
      "['neuchatel', 'allemagne', 'berne', 'berne', 'argovie', 'jongny', 'jongny', 'jongny', 'jongny', 'orges', 'angleterre', 'angleterre', 'angleterre', 'angleterre', 'angleterre', 'angleterre', 'angleterre', 'angleterre', 'angleterre', 'allenagne', 'angleterre', 'angleterre', 'angleterre', 'angleterre', 'angleterre', 'angleterre', 'ste gall', 'berne', 'italie', 'allemagne', 'hollande', 'allemagne', 'argovie', 'allemagne', 'st gall', 'berne', 'ferance', 'thurgovie', 'tapons', 'italie', 'ferance', 'dannemarch', 'berne', 'berne', 'glaris', 'berne', 'lausanne', 'orbe', 'cully', 'angleterre', 'st gall', 'prilly', 'chamblons', 'wustemberg', 'ste gall', 'france', 'espagne', 'france', 'brusse', 'fribourg', 'ste gall', 'lausanne', 'echallens', 'france', 'france', 'angleterre', 'angleterre', 'angleterre', 'angleterre', 'angleterre', 'vaulion', 'vullierens', 'chavannes', 'prusse', 'dommartin', 'thurgovie', 'thurgovie', 'riez', 'riez', 'france', 'france', 'bussigny', 'amerique', 'bayerne', 'frande', 'amerique', 'belmont', 'chateau d oex', 'argovie', 'gland', 'gland', 'prusse', 'brussie', 'brussie', 'brussie', 'allemagne', 'allemagne', 'lausanne', 'berne', 'argovie', 'argovie', 'berne', 'geneve', 'alsace', 'berne', 'berne', 'frances', 'berne', 'chavannes', 'zurich', 'ferance', 'lutry', 'savoie', 'chatel', 'begnins', 'chigny', 'chigny', 'chigny', 'zurich', 'berne', 'savoie', 'cully', 'rossinieres', 'zurich', 'soleure', 'lutry', 'berne', 'epalinges', 'anglaise', 'lausanne', 'berne', 'berne', 'berne', 'berne', 'zurich', 'valais', 'valais', 'alsace', 'berne', 'ballaiques', 'chavannes', 'lutry', 'lausanne', 'chatel', 'tolochenaz', 'lieu vallee', 'berne', 'montherand', 'sutryet riez', 'st croix', 'france', 'gorel', 'biranue', 'france', 'geneve', 'argovie', 'berne', 'epalinges', 'pens', 'st ervif', 'lausanne', 'roche', 'payerne', 'americain', 'payerne', 'francais', 'anglais', 'zurich', 'amerique', 'amerique', 'thurgovie', 'anglaise', 'grisons', 'glaris', 'nuremberg', 'amerique', 'neuchatel', 'grisons', 'anglaise', 'baviere', 'd olon', 'france', 'lombardie', 'fribourg', 'france', 'france', 'france', 'france', 'echallens', 'st gall', 'rale', 'oron', 'mont la ville', 'ecublens', 'lussy', 'lussy', 'lussy', 'vallee', 'lutry', 'maracon', 'loeure', 'assens', 'berne', 'savoie', 'sullens', 'lutry nee de naisse', 'lutry nee de naisse', 'lutry nee de naisse', 'france', 'france', 'france', 'epalinges', 'neuchatel', 'givrins', 'lutry', 'lavigny', 'bulayes', 'berne', 'bale ville', 'lutry', 'aigle', 'aigle', 'argovie', 'st croix', 'joug', 'angleterre', 'dugy', 'lausanne', 'cndrefin', 'lausanne', 'lausanne', 'belmont', 'belmont', 'lausanne', 'lausanne', 'lausanne', 'lausanne', 'jorel sur lucens', 'lausanne', 'cully', 'cully', 'savigny', 'chatelard', 'savigny', 'gimel', 'lausanne', 'corsier', 'lausanne', 'bottens', 'lausanne', 'aberne', 'lausanne', 'epalinge', 'penayres', 'lausanne', 'crmonts dessu', 'cugy', 'vaud', 'cortaillod', 'abbaye chenit', 'saugen uchate', 'froideville', 'ronanel', 'pully', 'berne', 'berne', 'berne', 'fradeville', 'berne', 'payerne', 'france', 'aubonne', 'glaris', 'dannemarel', 'geypte', 'hanore', 'g d rade', 'zurich', 'zurich', 'anglais ju', 'lausanne .', 'orbe', 'angleterre', 'fabbaye', 'raulion', 'argovie', 'lausanne', 'lutry', 'thurgovie', 'julie', 'chavorney', 'france', 'berey', 'beile', 'tabachier', 'rabachier', 'combremort', 'g d rade', 'lausanne', 'russie', 'belmont', 'burtigny', 'geneve', 'vullerens']\n"
     ]
    }
   ],
   "source": [
    "import pandas as pd\n",
    "\n",
    "# filename = \"../xlsx/pension/1875_pension.xlsx\"\n",
    "filename = \"../xlsx/pension/individual/1875_individual_pension.xlsx\"\n",
    "df = pd.read_excel(filename)\n",
    "\n",
    "# Read the data from file \"toponyms.xlsx\" located in the \"./xlsx/toponyms/\" folder\n",
    "toponyms = pd.read_excel(\"../xlsx/toponyms/toponyms.xlsx\")\n",
    "\n",
    "# Compare the value of the column \"pensionnaires_origine\" of the dataframe \"df\" with the values of the column \"name\" of the dataframe \"toponyms\"\n",
    "# If one of the values of the dataframe \"toponyms\" is found in the value of the column \"pensionnaires_origine\" of the dataframe \"df\", then save the value of \"penionnaires_origine\" in a new dataframe \"df_origine\"\n",
    "df_origine = []\n",
    "for i in range(len(df)):\n",
    "    for j in range(len(toponyms)):\n",
    "        ## convert to lower case for comparison\n",
    "        if toponyms[\"name\"][j].lower() not in df[\"pensionnaires_origine\"][i].lower():\n",
    "            ## print the values of the toponyms found in the dataframe \"df\" and of the pensionnaires_origine value\n",
    "            # print(\"Toponym found: \", toponyms[\"name\"][j], \" in \", df[\"pensionnaires_origine\"][i])\n",
    "            df_origine.append(df[\"pensionnaires_origine\"][i])\n",
    "            break\n",
    "\n",
    "# print the dataframe \"df_origine\"\n",
    "print(df_origine)"
   ]
  },
  {
   "cell_type": "code",
   "execution_count": null,
   "metadata": {},
   "outputs": [],
   "source": []
  }
 ],
 "metadata": {
  "language_info": {
   "name": "python"
  },
  "orig_nbformat": 4
 },
 "nbformat": 4,
 "nbformat_minor": 2
}
