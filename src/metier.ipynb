{
 "cells": [
  {
   "cell_type": "code",
   "execution_count": 1,
   "metadata": {},
   "outputs": [
    {
     "name": "stdout",
     "output_type": "stream",
     "text": [
      "275\n",
      "304\n",
      "490\n",
      "276\n"
     ]
    }
   ],
   "source": [
    "# import the pandas library\n",
    "import pandas as pd\n",
    "\n",
    "filename_1895 = \"../xlsx/pension/individual/1895_pension_individual_pension.xlsx\"\n",
    "df_1895 = pd.read_excel(filename_1895)\n",
    "\n",
    "filename_1875 = \"../xlsx/pension/individual/1875_individual_pension.xlsx\"\n",
    "df_1875 = pd.read_excel(filename_1875)\n",
    "\n",
    "filename_1855 = \"../xlsx/pension/individual/1855_corrige_individual_pension.xlsx\"\n",
    "df_1855 = pd.read_excel(filename_1855)\n",
    "\n",
    "filename_1835 = \"../xlsx/pension/individual/1835_corrige_individual_pension.xlsx\"\n",
    "df_1835 = pd.read_excel(filename_1835)\n",
    "\n",
    "# print the length of each dataframe\n",
    "print(len(df_1895))\n",
    "print(len(df_1875))\n",
    "print(len(df_1855))\n",
    "print(len(df_1835))"
   ]
  },
  {
   "cell_type": "code",
   "execution_count": 19,
   "metadata": {},
   "outputs": [
    {
     "name": "stdout",
     "output_type": "stream",
     "text": [
      "Index(['Unnamed: 0.2', 'Unnamed: 0.1', 'Unnamed: 0', 'nom_rue', 'no_maison',\n",
      "       'proprietaire_nom_adresse', 'chef_nom', 'chef_prenom',\n",
      "       'chef_date_naissance_3', 'chef_origine', 'epouse_nom', 'epouse_prenom',\n",
      "       'epouse_date_naissance_3', 'chef_vocation', 'chef_permis',\n",
      "       'enfants_chez_parents_prenom', 'enfants_date_naissance_3',\n",
      "       'enfants_profession', 'enfants_permis', 'pensionnaires_nom',\n",
      "       'pensionnaires_prenom', 'pensionnaires_date_naissance_3',\n",
      "       'pensionnaires_origine', 'pensionnaires_condition',\n",
      "       'pensionnaires_permis', 'observations', 'Page', 'pensionnaires_count'],\n",
      "      dtype='object')\n"
     ]
    }
   ],
   "source": [
    "# get the column names\n",
    "print(df_1895.columns)\n",
    "\n",
    "# in a new dataframe, save the columns for the nom_rue, no_maison, proprietaire_nom_adresse, chef_nom, chef_prenom, chef_date_naissance_3, chef_origine, chef_vocation \n",
    "df_1895_new = df_1895[['nom_rue', 'no_maison', 'proprietaire_nom_adresse', 'chef_nom', 'chef_prenom', 'chef_origine', 'chef_vocation']]\n",
    "\n",
    "# save the new dataframe to a xlsx file\n",
    "df_1895_new.to_excel(\"../xlsx/pension/individual/metier/1895_metier.xlsx\")"
   ]
  },
  {
   "cell_type": "code",
   "execution_count": 20,
   "metadata": {},
   "outputs": [
    {
     "name": "stdout",
     "output_type": "stream",
     "text": [
      "Index(['Unnamed: 0.2', 'Unnamed: 0.1', 'Unnamed: 0', 'nom_rue',\n",
      "       'nom_rue_htr_corr', 'nom_rue_norm', 'no_maison', 'proprietaire_nom',\n",
      "       'proprietaire_nom_corr', 'proprietaire_nom_htr_corr',\n",
      "       'proprietaire_nom_norm', 'chef_prenom', 'chef_prenom_htr_corr',\n",
      "       'chef_prenom_norm', 'chef_nom', 'chef_nom_corr', 'chef_nom_htr_corr',\n",
      "       'chef_nom_norm', 'chef_annee_naissance', 'epouse_nom',\n",
      "       'epouse_nom_corr', 'epouse_nom_htr_corr', 'epouse_nom_norm',\n",
      "       'epouse_annee_naissance', 'enfants_chez_parents_prenom',\n",
      "       'enfants_chez_parents_prenom_htr_corr',\n",
      "       'enfants_chez_parents_prenom_norm', 'enfants_annee_naissance',\n",
      "       'chef_origine', 'chef_origine_corr', 'chef_origine_htr_corr',\n",
      "       'chef_origine_norm', 'chef_vocation', 'chef_vocation_top_terms',\n",
      "       'chef_vocation_htr_corr', 'chef_vocation_norm', 'chef_recepisse',\n",
      "       'pensionnaires_prenom', 'pensionnaires_prenom_htr_corr',\n",
      "       'pensionnaires_prenom_norm', 'pensionnaires_nom',\n",
      "       'pensionnaires_nom_corr', 'pensionnaires_nom_htr_corr',\n",
      "       'pensionnaires_nom_norm', 'pensionnaires_annee_naissance',\n",
      "       'pensionnaires_origine', 'pensionnaires_origine_corr',\n",
      "       'pensionnaires_origine_htr_corr', 'pensionnaires_origine_norm',\n",
      "       'pensionnaires_condition', 'pensionnaires_condition_top_terms',\n",
      "       'pensionnaires_condition_htr_corr', 'pensionnaires_condition_norm',\n",
      "       'pensionnaires_recepisse', 'observations', 'Page',\n",
      "       'pensionnaires_count'],\n",
      "      dtype='object')\n"
     ]
    }
   ],
   "source": [
    "# get the column names\n",
    "print(df_1875.columns)\n",
    "\n",
    "# in a new dataframe, save the columns for the nom_rue_norm, no_maison, proprietaire_nom_norm, chef_nom_norm, chef_prenom_norm, chef_origine_norm, chef_vocation_norm\n",
    "df_1875_new = df_1875[['nom_rue_norm', 'no_maison', 'proprietaire_nom_norm', 'chef_nom_norm', 'chef_prenom_norm', 'chef_origine_norm', 'chef_vocation_norm']]\n",
    "\n",
    "# save the new dataframe to a xlsx file\n",
    "df_1875_new.to_excel(\"../xlsx/pension/individual/metier/1875_metier.xlsx\")"
   ]
  },
  {
   "cell_type": "code",
   "execution_count": 22,
   "metadata": {},
   "outputs": [
    {
     "name": "stdout",
     "output_type": "stream",
     "text": [
      "Index(['Unnamed: 0.1', 'Unnamed: 0', '*', 'id', 'erreur_ligne', 'division',\n",
      "       'nom_rue', 'nom_rue_line_corr', 'nom_rue_htr_corr', 'nom_rue_norm',\n",
      "       'no_maison', 'no_maison_line_corr', 'no_maison_htr_corr',\n",
      "       'proprietaire_nom', 'proprietaire_nom_line_corr',\n",
      "       'proprietaire_nom_htr_corr', 'proprietaire_nom_norm',\n",
      "       'proprietaire_nom_remarques', 'chef_prenom', 'chef_prenom_line_corr',\n",
      "       'chef_prenom_htr_corr', 'chef_prenom_norm', 'chef_prenom_remarques',\n",
      "       'chef_nom', 'chef_nom_line_corr', 'chef_nom_remarque',\n",
      "       'chef_nom_htr_corr', 'chef_nom_norm', 'chef_annee_naissance',\n",
      "       'chef_annee_naissance_line_corr', 'chef_annee_naissance_htr_corr',\n",
      "       'chef_annee_naissance_norm', 'epouse_nom', 'epouse_nom_line_corr',\n",
      "       'epouse_nom_htr_corr', 'epouse_nom_norm', 'epouse_nom_remarques',\n",
      "       'epouse_annee_naissance', 'epouse_annee_naissance_line_corr',\n",
      "       'epouse_annee_naissance_htr_corr', 'epouse_annee_naissance_norm',\n",
      "       'enfants_dans_la_commune_prenom',\n",
      "       'enfants_dans_la_commune_prenom_line_corr',\n",
      "       'enfants_dans_la_commune_prenom_htr_corr',\n",
      "       'enfants_dans_la_commune_prenom_norm',\n",
      "       'enfants_dans_la_commune_prenom_remarque', 'enfants_annee_naissance',\n",
      "       'enfants_annee_naissance_line_corr', 'enfants_annee_naissance_htr_corr',\n",
      "       'enfants_annee_naissance_norm', 'chef_origine',\n",
      "       'chef_origine_line_corr', 'chef_origine_htr_corr', 'chef_origine_norm',\n",
      "       'chef_origine_remarques', 'chef_vocation', 'chef_vocation_line_corr',\n",
      "       'chef_vocation_htr_corr', 'chef_vocation_norm',\n",
      "       'chef_vocation_remarques', 'chef_recepisse', 'chef_recepisse_line_corr',\n",
      "       'pensionnaires_prenom', 'pensionnaires_prenom_line_corr',\n",
      "       'pensionnaires_prenom_htr_corr', 'pensionnaires_prenom_norm',\n",
      "       'pensionnaires_prenom_remarques', 'pensionnaires_nom',\n",
      "       'pensionnaires_nom_line_corr', 'pensionnaires_nom_htr_corr',\n",
      "       'pensionnaires_nom_norm', 'pensionnaires_nom_remarques',\n",
      "       'pensionnaires_origine', 'pensionnaires_origine_line_corr',\n",
      "       'pensionnaires_origine_htr_corr', 'pensionnaires_origine_norm',\n",
      "       'pensionnaires_origine_remarques', 'pensionnaires_condition',\n",
      "       'pensionnaires_condition_line_corr', 'pensionnaires_condition_htr_corr',\n",
      "       'pensionnaires_condition_norm', 'pensionnaires_recepisse',\n",
      "       'pensionnaires_recepisse_line_corr', 'observations',\n",
      "       'observations_line_corr', 'Page', 'pensionnaires_count'],\n",
      "      dtype='object')\n"
     ]
    }
   ],
   "source": [
    "# get the column names\n",
    "print(df_1855.columns)\n",
    "\n",
    "# in a new dataframe, save the columns for the nom_rue_norm, no_maison, proprietaire_nom_norm, chef_nom_norm, chef_prenom_norm, chef_origine_norm, chef_vocation_norm\n",
    "df_1855_new = df_1855[['nom_rue_norm', 'no_maison', 'proprietaire_nom_norm', 'chef_nom_norm', 'chef_prenom_norm', 'chef_origine_norm', 'chef_vocation_norm']]\n",
    "\n",
    "# save the new dataframe to a xlsx file\n",
    "df_1855_new.to_excel(\"../xlsx/pension/individual/metier/1855_metier.xlsx\")"
   ]
  },
  {
   "cell_type": "code",
   "execution_count": 21,
   "metadata": {},
   "outputs": [
    {
     "name": "stdout",
     "output_type": "stream",
     "text": [
      "Index(['Unnamed: 0.1', 'Unnamed: 0', 'ID number', 'ID number corr', 'Page',\n",
      "       'erreur_ligne', 'division', 'nom_rue', 'nom_rue_line _corr. ',\n",
      "       'nom_rue_htr_corr', 'nom_rue_norm', 'no_maison', 'no_maison_line_corr',\n",
      "       'no_maison_htr_corr', 'no_maison_htr_norm', 'proprietaire_nom',\n",
      "       'proprietaire_nom_line_corr', 'proprietaire_nom_htr_corr',\n",
      "       'proprietaire_nom_norm', 'proprietaire_nom_remarques', 'chef_prenom',\n",
      "       'chef_prenom_line_corr', 'chef_nom', 'chef_nom_line_corr',\n",
      "       'chef_nom_htre_corr', 'chef_nom_norm', 'chef_nom_remarques',\n",
      "       'chef_annee_naissance', 'chef_annee_naissance_line_corr', 'epouse_nom',\n",
      "       'epouse_nom_line_corr', 'epouse_nom_htr_corr', 'epouse_nom_norm',\n",
      "       'epouse_nom_remarques', 'epouse_annee_naissance',\n",
      "       'epouse_annee_line_corr', 'enfants_dans_la_commune_prenom',\n",
      "       'enfants_dans_la_commune_prenom_line_corr', 'enfants_annee_naissance',\n",
      "       'enfants_annee_naissance_line_corr', 'chef_origine',\n",
      "       'chef_origine_line_corr', 'chef_origine_htr_corr', 'chef_origine_norm',\n",
      "       'chef_origine_remarques', 'chef_annee_arrivee',\n",
      "       'chef_annee_arrivee_line_corr', 'chef_vocation',\n",
      "       'chef_vocation_line_corr', 'chef_vocation_htr_corr',\n",
      "       'chef_vocation_norm', 'chef_vocation_remarque', 'chef_recepisse',\n",
      "       'chef_recepisse_line_corr', 'pensionnaires_prenom',\n",
      "       'pensionnaires_prenom_line_Corr', 'pensionnaires_nom',\n",
      "       'pensionnaires_nom_line_corr', 'pensionnaires_nom_htr_corr',\n",
      "       'pensionnaires_nom_norm', 'pensionnaires_nom_remarques',\n",
      "       'pensionnaires_origine', 'pensionnaires_origine_line_corr',\n",
      "       'pensionnaires_origine_htr_corr', 'pensionnaires_origine_norm',\n",
      "       'pensionnaires_origine_remarques', 'pensionnaires_condition',\n",
      "       'pensionnaires_condition_line_corr2', 'pensionnaires_vocation_htr_corr',\n",
      "       'pensionnaires_vocation_norm', 'pensionnaires_vocation_remarque',\n",
      "       'pensionnaires_recepisse', 'pensionnaires_recepisse_line_corr',\n",
      "       'observations', 'observations_line_corr', 'observation_htr_corr',\n",
      "       'pensionnaires_count'],\n",
      "      dtype='object')\n"
     ]
    }
   ],
   "source": [
    "# get the column names\n",
    "print(df_1835.columns)\n",
    "\n",
    "# in a new dataframe, save the columns for the nom_rue_norm, no_maison, proprietaire_nom_norm, chef_nom_norm, chef_prenom, chef_origine_norm, chef_vocation_norm\n",
    "df_1835_new = df_1835[['nom_rue_norm', 'no_maison', 'proprietaire_nom_norm', 'chef_nom_norm', 'chef_prenom', 'chef_origine_norm', 'chef_vocation_norm']]\n",
    "\n",
    "# save the new dataframe to a xlsx file\n",
    "df_1835_new.to_excel(\"../xlsx/pension/individual/metier/1835_metier.xlsx\")\n"
   ]
  },
  {
   "cell_type": "code",
   "execution_count": null,
   "metadata": {},
   "outputs": [],
   "source": []
  }
 ],
 "metadata": {
  "kernelspec": {
   "display_name": "Python 3",
   "language": "python",
   "name": "python3"
  },
  "language_info": {
   "codemirror_mode": {
    "name": "ipython",
    "version": 3
   },
   "file_extension": ".py",
   "mimetype": "text/x-python",
   "name": "python",
   "nbconvert_exporter": "python",
   "pygments_lexer": "ipython3",
   "version": "3.9.13"
  },
  "orig_nbformat": 4
 },
 "nbformat": 4,
 "nbformat_minor": 2
}
