{
 "cells": [
  {
   "cell_type": "code",
   "execution_count": 6,
   "metadata": {},
   "outputs": [],
   "source": [
    "import pandas as pd\n",
    "import glob\n",
    "\n",
    "## load all the files from the folder \"../xlsx/toponyms/\"\n",
    "## and store them in a list\n",
    "files = glob.glob(\"../xlsx/toponyms/*.xlsx\")\n",
    "\n",
    "## create an empty list to store the dataframes\n",
    "dfs = []\n",
    "\n",
    "## loop over the files and read them into a dataframe\n",
    "for file in files:\n",
    "    df = pd.read_excel(file)\n",
    "    dfs.append(df)\n",
    "\n",
    "## concatenate the dataframes into one\n",
    "df = pd.concat(dfs)\n",
    "\n",
    "## convert them to lower case\n",
    "df[\"name\"] = df[\"name\"].str.lower()\n",
    "\n",
    "## save the dataframe as a xlsx file\n",
    "df.to_excel(\"../xlsx/toponyms/toponyms.xlsx\", index=False)"
   ]
  }
 ],
 "metadata": {
  "kernelspec": {
   "display_name": "base",
   "language": "python",
   "name": "python3"
  },
  "language_info": {
   "codemirror_mode": {
    "name": "ipython",
    "version": 3
   },
   "file_extension": ".py",
   "mimetype": "text/x-python",
   "name": "python",
   "nbconvert_exporter": "python",
   "pygments_lexer": "ipython3",
   "version": "3.9.13"
  },
  "orig_nbformat": 4
 },
 "nbformat": 4,
 "nbformat_minor": 2
}
