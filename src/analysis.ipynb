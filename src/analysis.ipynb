{
 "cells": [
  {
   "cell_type": "code",
   "execution_count": 25,
   "metadata": {},
   "outputs": [
    {
     "name": "stdout",
     "output_type": "stream",
     "text": [
      "275\n",
      "304\n",
      "490\n",
      "276\n"
     ]
    }
   ],
   "source": [
    "# import the pandas library\n",
    "import pandas as pd\n",
    "\n",
    "filename_1895 = \"../xlsx/pension/individual/1895_pension_individual_pension.xlsx\"\n",
    "df_1895 = pd.read_excel(filename_1895)\n",
    "\n",
    "filename_1875 = \"../xlsx/pension/individual/1875_individual_pension.xlsx\"\n",
    "df_1875 = pd.read_excel(filename_1875)\n",
    "\n",
    "filename_1855 = \"../xlsx/pension/individual/1855_corrige_individual_pension.xlsx\"\n",
    "df_1855 = pd.read_excel(filename_1855)\n",
    "\n",
    "filename_1835 = \"../xlsx/pension/individual/1835_corrige_individual_pension.xlsx\"\n",
    "df_1835 = pd.read_excel(filename_1835)\n",
    "\n",
    "# print the length of each dataframe\n",
    "print(len(df_1895))\n",
    "print(len(df_1875))\n",
    "print(len(df_1855))\n",
    "print(len(df_1835))"
   ]
  },
  {
   "cell_type": "code",
   "execution_count": 26,
   "metadata": {},
   "outputs": [
    {
     "name": "stdout",
     "output_type": "stream",
     "text": [
      "130\n",
      "148\n",
      "203\n",
      "111\n"
     ]
    }
   ],
   "source": [
    "# Read the data from file \"toponyms.xlsx\" located in the \"./xlsx/toponyms/\" folder\n",
    "toponyms = pd.read_excel(\"../xlsx/toponyms/toponyms.xlsx\")\n",
    "\n",
    "# Compare the value of the column \"pensionnaires_origine\" of each dataframe \"df_*\" with the values of the column \"name\" of the dataframe \"toponyms\"\n",
    "# If one of the values of the dataframe \"toponyms\" is found in the value of the column \"pensionnaires_origine\" of each dataframe \"df_*\", then save the value of \"penionnaires_origine\" in a new dataframe \"df_origine\"\n",
    "# do it for each dataframe \"df_*\"\n",
    "df_origine_1895 = df_1895[df_1895[\"pensionnaires_origine\"].isin(toponyms[\"name\"])]\n",
    "df_origine_1875 = df_1875[df_1875[\"pensionnaires_origine\"].isin(toponyms[\"name\"])]\n",
    "df_origine_1855 = df_1855[df_1855[\"pensionnaires_origine\"].isin(toponyms[\"name\"])]\n",
    "df_origine_1835 = df_1835[df_1835[\"pensionnaires_origine\"].isin(toponyms[\"name\"])]\n",
    "# print the length of each dataframe\n",
    "print(len(df_origine_1895))\n",
    "print(len(df_origine_1875))\n",
    "print(len(df_origine_1855))\n",
    "print(len(df_origine_1835))\n"
   ]
  },
  {
   "cell_type": "code",
   "execution_count": 27,
   "metadata": {},
   "outputs": [
    {
     "name": "stdout",
     "output_type": "stream",
     "text": [
      "['epalinges', 'schaffhouse', 'allemagne', 'boherne', 'rovance', 'giez', 'lucerne', 'moudon', 'st cierges', 'berne', 'berne', 'anglais', 'fribourg', 'gossens', 'allemegne', 'ages pigy', '·', '·', 'france', 'st croix', 'valais', 'monbagny', 'neuchatel', 'pampigny nyo', 'schwill', 'ormont', 'echardens', 'berne', 'zurich', 'ranas', 'saae', 'corsier', 'francins', 'berne', 'prusse', 'sarmont', 'schafflous', 'thurgovie', 'froideville', 'grandcour', 'derne', 'saxe', 'autriele', 'berne', 'forel', 'fribourg', 'chomplauro', 'france', '·', 'itulie', 'savoie', 'montreux', 'st croix', 'fribourg', 'thierrens', 'le leu', 'berne', 'jongny', 'berne', 'bale', 'granges mard', 'baden', 'allemagne', 'villette', 'oulens', 'thurgovie', 'le lieu', 'callemagne', 'tessin', 'montreux', 'valais', 'allemagne', 'ste gette', 'avenches', 'berne', 'villars le gd', 'berne', 'angleterre', 'le thenit', 'grace', 'suede', 'neuchatel', 'argovie', 'gerdon', 'angleterre', 'hollande', 'yverdon', 'allemagne', 'orbe', 'avenches', 'lausanne', 'st croix', 'france', 'payerne', 'st croix', 'chavannes le brex', 'france', 'allemagne', 'essertis', 'berne', 'chardonne', 'vucherens', '·', 'echallens', 'cottens', 'france', 'epalinges', 'epalinges', 'fey', 'pentherey', 'eclagnens', 'oron lech', 'italie', 'berne', 'berne', 'blonay', 'chevroux', 'berne', 'pully', 'france', '·', '·', 'jeanne', 'le chenet', 'esserlines', 'waz', 'st saphorin', 'essertine ne ge', 'berne', 'berne', 'berne', 'dessenay', 'berne', 'italie', 'olleyres', 'vallorbes', 'berne', 'fribourg', 'berne', 'echallens', 'lutry', 'thurgovie', 'mussier', 'la sarraz', 'prahins', 'bullet', 'lutry', 'orbe', 'st gall', 'poliez pittet', 'amerique', 'donneloye', 'lausanne', 'angleterre', 'autriche', 'lucerne', 'geneve', 'lyon', 'roumanie', 'epalinges', 'rougemont', 'italie', 'berne', 'juriens', 'geneve', 'allemagne', 'geneve', 'autriche', '·', 'ingleterre', 'lechy', 'bulgarie', 'roumanie', 'zurich', 'russie', 'geneve', 'fribourg', 'hambourg', 'moiry', 'romainmotier', 'berne', 'berne', 'peyres st lessens', 'peyres et lissens', 'allemagne', 'lausanne', 'cilly', 'allemagne', 'lavigny', 'trey', 'bale', 'allemagne', 'berne', 'amerique', 'zurich', 'vale ville', 'berne', 'gressy', 'ecublens', 'rougemont', 'lausanne', 'genollier', 'autriche', 'renens', 'pte croix', 'rolle', 'pully', 'montheux', 'france', 'argovie', 'valois', 'fribourg', 'auchiche', 'fribourg', 'fribourg', 'lausanne', 'bauhmes', 'iuyrne', 'prusse', 'hamburg', 'hamburg', 'berne', 'itulie', 'neuchatel', 'france', 'renerenges', 'berne', 'commartin', 'solome', 'soloume', 'thurgovie', 'seavion', 'bussigny', 'fanny', 'fribourg', 'berne', 'bioley dy', 'berne', 'lutry', 'argovie', 'lausanne', 'chardonna cardonne', 'glaris', 'valais', 'france', 'jampigny', 'buchillon', 'ste croix', 'berne', 'froideville', 'russie', 'russie', 'fribourg', 'epesses', 'bersles', 'france', 'berne', 'italie', 'julie', 'berne', 'berne', 'corrouge', 'france', 'fribourg', '·', 'allemagne', 'berne', 'chenet', 'borlet', 'belmont', 'lausanne', 'schaffouse', 'france', 'l abbaye', 'lavigny']\n",
      "[12, 0, 11, 4, 0, 0, 0, 0, 0, 0, 0, 0, 0, 0, 0, 0, 0, 0, 0, 2, 1, 0, 0, 3, 0, 0, 0, 0, 0, 0, 0, 0, 0, 0, 0, 0, 0, 0, 0, 0, 0, 0, 0, 0, 0, 0, 0, 0, 0, 0, 0, 0, 0, 0, 0, 0, 0, 0, 0, 0, 0, 0, 0, 0, 0, 0, 0, 0, 0, 0, 0, 0, 0, 0, 0, 0, 0, 0, 0, 0, 0, 0, 0]\n",
      "[12, 11, 4] France Belgique Allemagne\n"
     ]
    }
   ],
   "source": [
    "# 1895 pensionnaires_origine\n",
    "df_origine = []\n",
    "for i in range(len(df_1895)):\n",
    "    for j in range(len(toponyms)):\n",
    "        ## convert to lower case for comparison\n",
    "        if toponyms[\"name\"][j].lower() not in df_1895[\"pensionnaires_origine\"][i].lower():\n",
    "            ## print the values of the toponyms found in the dataframe \"df\" and of the pensionnaires_origine value\n",
    "            # print(\"Toponym found: \", toponyms[\"name\"][j], \" in \", df[\"pensionnaires_origine\"][i])\n",
    "            df_origine.append(df_1895[\"pensionnaires_origine\"][i])\n",
    "            break\n",
    "\n",
    "print(df_origine)\n",
    "european_countries = [\"France\", \"Belgique\", \"Allemagne\", \"Italie\", \"Espagne\", \"Portugal\", \"Royaume-Uni\", \"Irlande\", \"Pays-Bas\", \"Danemark\", \"Suède\", \"Norvège\", \"Finlande\", \"Estonie\", \"Lettonie\", \"Lituanie\", \"Pologne\", \"Tchéquie\", \"Hongrie\", \"Roumanie\", \"Bulgarie\", \"Grèce\", \"Turquie\", \"Russie\", \"Ukraine\", \"Biélorussie\", \"Moldavie\", \"Serbie\", \"Monténégro\", \"Bosnie-Herzégovine\", \"Croatie\", \"Slovénie\", \"Macédoine\", \"Albanie\", \"Géorgie\", \"Arménie\", \"Azerbaïdjan\", \"Israël\", \"Liban\", \"Syrie\", \"Jordanie\", \"Irak\", \"Iran\", \"Turkménistan\", \"Ouzbékistan\", \"Tadjikistan\", \"Kirghizistan\", \"Kazakhstan\", \"Chine\", \"Japon\", \"Corée du Sud\", \"Corée du Nord\", \"Taïwan\", \"Inde\", \"Pakistan\", \"Bangladesh\", \"Népal\", \"Birmanie\", \"Thaïlande\", \"Laos\", \"Cambodge\", \"Vietnam\", \"Malaisie\", \"Indonésie\", \"Philippines\", \"Singapour\", \"Brésil\", \"Argentine\", \"Uruguay\", \"Chili\", \"Colombie\", \"Venezuela\", \"Équateur\", \"Bolivie\", \"Paraguay\", \"Pérou\", \"Mexique\", \"États-Unis\", \"Canada\", \"Afrique du Sud\", \"Égypte\", \"Maroc\", \"Algérie\"]\n",
    "european_countries_origine = []\n",
    "for i in range(len(european_countries)):\n",
    "    # check if the lower case of the european country is in the lower case of the pensionnaires_origine\n",
    "    # allow errors in the spelling of the european country\n",
    "    european_countries_origine.append(len(df_1895[df_1895[\"pensionnaires_origine\"].str.lower().str.contains(european_countries[i].lower())]))\n",
    "\n",
    "# print the list of european countries with the number of pensionnaires_origine for each country\n",
    "print(european_countries_origine)\n",
    "\n",
    "# sort the list of european countries with the number of pensionnaires_origine for each country\n",
    "european_countries_origine.sort(reverse=True)\n",
    "\n",
    "# print the 3 most common european countries with the associated number of pensionnaires_origine and the name of the european country\n",
    "print(european_countries_origine[0:3], european_countries[european_countries_origine.index(european_countries_origine[0])], european_countries[european_countries_origine.index(european_countries_origine[1])], european_countries[european_countries_origine.index(european_countries_origine[2])])\n"
   ]
  },
  {
   "cell_type": "code",
   "execution_count": 28,
   "metadata": {},
   "outputs": [
    {
     "name": "stdout",
     "output_type": "stream",
     "text": [
      "['neuchatel', 'allemagne', 'berne', 'berne', 'argovie', 'jongny', 'jongny', 'jongny', 'jongny', 'orges', 'angleterre', 'angleterre', 'angleterre', 'angleterre', 'angleterre', 'angleterre', 'angleterre', 'angleterre', 'angleterre', 'allenagne', 'angleterre', 'angleterre', 'angleterre', 'angleterre', 'angleterre', 'angleterre', 'ste gall', 'berne', 'italie', 'allemagne', 'hollande', 'allemagne', 'argovie', 'allemagne', 'st gall', 'berne', 'ferance', 'thurgovie', 'tapons', 'italie', 'ferance', 'dannemarch', 'berne', 'berne', 'glaris', 'berne', 'lausanne', 'orbe', 'cully', 'angleterre', 'st gall', 'prilly', 'chamblons', 'wustemberg', 'ste gall', 'france', 'espagne', 'france', 'brusse', 'fribourg', 'ste gall', 'lausanne', 'echallens', 'france', 'france', 'angleterre', 'angleterre', 'angleterre', 'angleterre', 'angleterre', 'vaulion', 'vullierens', 'chavannes', 'prusse', 'dommartin', 'thurgovie', 'thurgovie', 'riez', 'riez', 'france', 'france', 'bussigny', 'amerique', 'bayerne', 'frande', 'amerique', 'belmont', 'chateau d oex', 'argovie', 'gland', 'gland', 'prusse', 'brussie', 'brussie', 'brussie', 'allemagne', 'allemagne', 'lausanne', 'berne', 'argovie', 'argovie', 'berne', 'geneve', 'alsace', 'berne', 'berne', 'frances', 'berne', 'chavannes', 'zurich', 'ferance', 'lutry', 'savoie', 'chatel', 'begnins', 'chigny', 'chigny', 'chigny', 'zurich', 'berne', 'savoie', 'cully', 'rossinieres', 'zurich', 'soleure', 'lutry', 'berne', 'epalinges', 'anglaise', 'lausanne', 'berne', 'berne', 'berne', 'berne', 'zurich', 'valais', 'valais', 'alsace', 'berne', 'ballaiques', 'chavannes', 'lutry', 'lausanne', 'chatel', 'tolochenaz', 'lieu vallee', 'berne', 'montherand', 'sutryet riez', 'st croix', 'france', 'gorel', 'biranue', 'france', 'geneve', 'argovie', 'berne', 'epalinges', 'pens', 'st ervif', 'lausanne', 'roche', 'payerne', 'americain', 'payerne', 'francais', 'anglais', 'zurich', 'amerique', 'amerique', 'thurgovie', 'anglaise', 'grisons', 'glaris', 'nuremberg', 'amerique', 'neuchatel', 'grisons', 'anglaise', 'baviere', 'd olon', 'france', 'lombardie', 'fribourg', 'france', 'france', 'france', 'france', 'echallens', 'st gall', 'rale', 'oron', 'mont la ville', 'ecublens', 'lussy', 'lussy', 'lussy', 'vallee', 'lutry', 'maracon', 'loeure', 'assens', 'berne', 'savoie', 'sullens', 'lutry nee de naisse', 'lutry nee de naisse', 'lutry nee de naisse', 'france', 'france', 'france', 'epalinges', 'neuchatel', 'givrins', 'lutry', 'lavigny', 'bulayes', 'berne', 'bale ville', 'lutry', 'aigle', 'aigle', 'argovie', 'st croix', 'joug', 'angleterre', 'dugy', 'lausanne', 'cndrefin', 'lausanne', 'lausanne', 'belmont', 'belmont', 'lausanne', 'lausanne', 'lausanne', 'lausanne', 'jorel sur lucens', 'lausanne', 'cully', 'cully', 'savigny', 'chatelard', 'savigny', 'gimel', 'lausanne', 'corsier', 'lausanne', 'bottens', 'lausanne', 'aberne', 'lausanne', 'epalinge', 'penayres', 'lausanne', 'crmonts dessu', 'cugy', 'vaud', 'cortaillod', 'abbaye chenit', 'saugen uchate', 'froideville', 'ronanel', 'pully', 'berne', 'berne', 'berne', 'fradeville', 'berne', 'payerne', 'france', 'aubonne', 'glaris', 'dannemarel', 'geypte', 'hanore', 'g d rade', 'zurich', 'zurich', 'anglais ju', 'lausanne .', 'orbe', 'angleterre', 'fabbaye', 'raulion', 'argovie', 'lausanne', 'lutry', 'thurgovie', 'julie', 'chavorney', 'france', 'berey', 'beile', 'tabachier', 'rabachier', 'combremort', 'g d rade', 'lausanne', 'russie', 'belmont', 'burtigny', 'geneve', 'vullerens']\n",
      "[19, 0, 6, 2, 1, 0, 0, 0, 0, 0, 0, 0, 0, 0, 0, 0, 0, 0, 0, 0, 0, 0, 0, 4, 0, 0, 0, 0, 0, 0, 0, 0, 0, 0, 0, 0, 0, 0, 0, 0, 0, 0, 1, 0, 0, 0, 0, 0, 0, 0, 0, 0, 0, 0, 0, 0, 0, 0, 0, 0, 0, 0, 0, 0, 0, 0, 0, 0, 0, 0, 0, 0, 0, 0, 0, 0, 0, 0, 0, 0, 0, 0, 0]\n",
      "[19, 6, 4] France Belgique Allemagne\n"
     ]
    }
   ],
   "source": [
    "# 1875 pensionnaires_origine\n",
    "df_origine = []\n",
    "for i in range(len(df_1875)):\n",
    "    for j in range(len(toponyms)):\n",
    "        ## convert to lower case for comparison\n",
    "        if toponyms[\"name\"][j].lower() not in df_1875[\"pensionnaires_origine\"][i].lower():\n",
    "            ## print the values of the toponyms found in the dataframe \"df\" and of the pensionnaires_origine value\n",
    "            # print(\"Toponym found: \", toponyms[\"name\"][j], \" in \", df[\"pensionnaires_origine\"][i])\n",
    "            df_origine.append(df_1875[\"pensionnaires_origine\"][i])\n",
    "            break\n",
    "\n",
    "print(df_origine)\n",
    "\n",
    "european_countries_origine = []\n",
    "for i in range(len(european_countries)):\n",
    "    # check if the lower case of the european country is in the lower case of the pensionnaires_origine\n",
    "    # allow errors in the spelling of the european country\n",
    "    european_countries_origine.append(len(df_1875[df_1875[\"pensionnaires_origine\"].str.lower().str.contains(european_countries[i].lower())]))\n",
    "\n",
    "# print the list of european countries with the number of pensionnaires_origine for each country\n",
    "print(european_countries_origine)\n",
    "\n",
    "# sort the list of european countries with the number of pensionnaires_origine for each country\n",
    "european_countries_origine.sort(reverse=True)\n",
    "\n",
    "# print the 3 most common european countries with the associated number of pensionnaires_origine and the name of the european country\n",
    "print(european_countries_origine[0:3], european_countries[european_countries_origine.index(european_countries_origine[0])], european_countries[european_countries_origine.index(european_countries_origine[1])], european_countries[european_countries_origine.index(european_countries_origine[2])])"
   ]
  },
  {
   "cell_type": "code",
   "execution_count": 29,
   "metadata": {},
   "outputs": [
    {
     "name": "stdout",
     "output_type": "stream",
     "text": [
      "['?fervien', '?st bauchelamy', 'belmont', 'lausanne', 'lausanne', '?zuieh', '·', '·', '?berthond', 'yverdon', 'zurich', '?mrbe', '·', 'lausanne', 'lausanne', 'lausanne', 'moiry', '?villelor', 'ormont', 'liestat', 'dommartin', '?rerrens', '?srerges', '?ce de berine', '?gessenay nace', '?gessenay nace', 'rossens', 'villarze', 'villarze', '?n eae prilly', 'lausanne', 'roche', 'epalinges', 'champvent', 'champvent', 'arzier', 'bale', 'lucens', 'argovie', 'lausanne', 'france', 'france', 'le lieu', '?vuertemberg', 'vucerne', 'granges', 'montreux', 'champagnol', 'depesses', 'mezery', 'doulens', 'baviere', 'berne', 'thierens', '?chatelet n eae', 'ste croix', 'brientz', 'st saphorin', 'pontarlier', 'argovie', 'saxe', 'herberg', 'schaffouse', 'tessin', '·', 'aigle', 'bex', 'bufsigny', 'glaris', 'zurich', 'zurich', 'zurich', 'berne', 'morrens', 'vurtemberg', 'lausanne', 'savigny', 'ballens', 'genes', 'valachie', '?argovie i', '?dtougart', 'folochenaz', 'lausanne', 'anglais', 'perreyres', 'nyon', 'cuarnens', '?e gesses', 'wurteuberg', 'aubonne', 'lutry', 'cully', 'essertine', 'villette', '·', 'vufflens la ville', 'france', 'lausanne', '?villars joercalin', 'zurich', 'sulgen', 'echichens', 'anex', '?cs voteure', 'idm', 'lausanne', 'lausanne', 'rivaz.', '?aigles', 'vevey', 'bretigny', '?chateaurdoex', 'ca berne', 'lutry', 'zurich', 'lavigny', 'abaye', 'ct berne', 'argovie', 'ct fribourg', '?genaler', 'corpt vse', 'rolle', 'yverdon', 'anglais', 'echichens', 'perreyres', '?pori a berne', 'autonne', 'renens', 'vaulion', 'gryon', 'corpt fse.', 'assens', 'sharbourg', 'ogens', 'belmont', 'paudex', 'grandson', 'mex', '?c la lierd', 'ct berne', 'piemont', 'angloterre', 'geneve', 'france', 'lutry', 'la berne', 'chat doex', 'corsier', '?angert', '?francais re frug', '?ormond dessac', '?eclichens', 'paudex', '?naz naturelle', 'cheseaux', 'naz', 'wohlen', 'rivaz.', 'lausanne', 'botlens', 'paidoux', 'penthereaz', 'turiens', 'zurich', '?lusey', 'combremont', 'lausanne', 'daillens', '?edne', 'rossigniere', 'dulliens', 'corpt vse', 'agiez', '?corselle loucise', 'renens', 'epalinges', 'aubonne', 'cont', 'bournens', 'combremond', 'berne', 'aclens', 'idm', 'le chenit', 'nyon', 'givrins', 'morges', 'morges', 'fancais', 'payerne', 'brotigny', 'echallens', '·', 'vallorbet', '?id nyon', '?yverdon d fomy', '·', '?gueboyller', '·', 'francais', 'zurich', 'chailly', '?lutry sriz', 'savoye', '·', '?villars sierulin', 'payerne', 'pailly', '?corp lamoise', '?j layre', 'vaulion', 'egeneve', 'ct berne', 'st gall', '?cessenety', 'argovie', 'ct berne', 'n argovie', '?n olenre', 'n argovie', 'lausanne', 'forel', '?s huither', '?hollande ct', '?chardonaz', 'vevey', '?le la rogive', 'sausanne', 'franc', 'ct zurich', 'demoret', '?blonaz', '?eclagners', 'lausanne', '·', 'et berne', '?penuy', '?romihmotir', '?montayney', 'chanpagne', 'chanpagne', 'villenenve', '?la cote', 'villeneure', 'lutry', '?vebery', 'ct berne', 'llon', 'mont', '?gonnoent la gille', '?lvillars dieruelin', 'lausanne', '?carsiersn vevry', 'colombier', 'mont', 'mathod', 'la vour', 'corp vandoise', 'pailly', '?cherrony', 'chatillens', '?chatel x denis', 'echalens', 'echalens', 'chatean d oex', '?rominmotier', '?brithonieres', '?belerive', 'moudon', 'verdon', '?l morges', '?fared d lutry', '?rongemont danaent', '?ruguovagnes', '?lbaye', 'yverdon', 'lutry', 'schaffouse', 'lusanne', '?chatean delex', 'grandson', '?at berne', 'murich', '?th', 'ct berne', '?d appenret', '?cgrandiour', 'lutry', '?anlenr', 'bule', 'prilly', 'l', 'vevey', '?carp frasncaire', 'ex', '?egessenery', 'savigny', '?ct farich', 'lavigny', 'st. croix', 'chamblon', 'lausanne', 'bercher', 'froideville', 'daillens', '?egenever', 'corp francuise', 'bix', 'francfort', '?zrurih', 'corp vandoise', 'lausanne', 'brtigny', 'bel', 'lucerne', 'vevry', 'vilette', 'bupigny', 'st. croix', 'elagniere', 'guggisberg', 'lutry', 'carouge', 'savigny', 'lausanne', 'savigny', '?seigneu', 'lausanne', 'belmont', 'belmont', '?hatt en sac', 'lausanne', 'lusanne', 'cully', 'epalinge', 'epalinge', 'cully', 'lausanne', 'mont la ville', 'epalinge', 'gimel', 'froideville', 'lutry', 'lausanne', 'prilly', 'savigny', '?oberietzwil dtgat', '?oberatzvil shall', 'eugy', '?cporation vaudoise', 'payerne', 'thun', 'angrogna', '·', 'kircheim', '?pise', 'coppet', '·', 'epalinges', 'mont', 'yverdon', 'yverdon', '?ponsins', 'montpreveyre', 'anglais', 'ormont de ssus', 'thierrens', 'morrens', '?prachelvald', 'geneve', 'vuarrens', 'lausanne', '?gunsgen bal', 'lausanne', 'lausanne', 'juriens', 'corporation fse', 'cully', 'lutry', 'francais', 'guggisberg', '?zensgen bal', 'anglais', 'bavois', 'nyon', '?jervion', 'cully', 'naz', '?neyeuz', 'epalinges', '?parouge', '?corporation p', 'rougemont', 'epalinges', 'lisle', '?alrsins', 'pully', 'chenit', '?onvy', 'chenit', 'lutry', 'pisy', 'maracon', 'chenit', 'chenit', 'chenit', 'lausanne', 'chardonne', 'henit', '?villars turclin', 'cossonnay', 'villars tiercelin', 'rougemont', 'luhy', 'moudon', 'pisy', 'peney', 'latry', 'envy', 'lauennen', 'bufsigny', 'lausanne', '·', 'raz', '?peublens', 'epalinges', '?corporatioen fse', '?corporatioen fse', 'corporation fs', 'cronay', 'savigny', 'lausanne', 'corporation fs', 'st cierge', 'st cierge', 'montagny', 'vevey', 'gingins', 'lausanne', 'allaman', 'lausanne', 'lausanne', 'chavornay', 'orny', 'corporation fs', 'lausanne', 'grandson', 'bottens', '?vignier geneve', 'lutry', 'lutry', 'epalinges', '?ruegensean', '?ruegensean', 'hambourg', 'coinsins', 'cossonnay', 'vaulion', 'lausanne', 'angleterre', 'brene', '?collence', 'schwitz', 'holande', 'prusse', 'glaris', 'zurich', 'hesse', '?sumatra', '?hese', '?ric de la plata', 'hanove', 'schvitz', 'angleterre', '·', 'zurich', 'ecublens', 'assens', 'savigny', 'mezieres', 'epalinges', 'vulliens', 'savigny', 'vaux', 'lausanne', '?sasannaz', 'pizy']\n",
      "[4, 0, 0, 0, 0, 0, 0, 0, 0, 0, 0, 0, 0, 0, 0, 0, 0, 0, 0, 0, 0, 0, 0, 0, 0, 0, 0, 0, 0, 0, 0, 0, 0, 0, 0, 0, 0, 0, 0, 0, 0, 0, 0, 0, 0, 0, 0, 0, 0, 0, 0, 0, 0, 0, 0, 0, 0, 0, 0, 0, 0, 0, 0, 0, 0, 0, 0, 0, 0, 0, 1, 0, 0, 0, 0, 0, 0, 0, 0, 0, 0, 0, 0]\n",
      "[4, 1, 0] France Belgique Allemagne\n"
     ]
    }
   ],
   "source": [
    "# 1855 pensionnaires_origine\n",
    "df_origine = []\n",
    "for i in range(len(df_1855)):\n",
    "    for j in range(len(toponyms)):\n",
    "        ## convert to lower case for comparison\n",
    "        if toponyms[\"name\"][j].lower() not in df_1855[\"pensionnaires_origine\"][i].lower():\n",
    "            ## print the values of the toponyms found in the dataframe \"df\" and of the pensionnaires_origine value\n",
    "            # print(\"Toponym found: \", toponyms[\"name\"][j], \" in \", df[\"pensionnaires_origine\"][i])\n",
    "            df_origine.append(df_1855[\"pensionnaires_origine\"][i])\n",
    "            break\n",
    "\n",
    "print(df_origine)\n",
    "\n",
    "european_countries_origine = []\n",
    "for i in range(len(european_countries)):\n",
    "    # check if the lower case of the european country is in the lower case of the pensionnaires_origine\n",
    "    # allow errors in the spelling of the european country\n",
    "    european_countries_origine.append(len(df_1855[df_1855[\"pensionnaires_origine\"].str.lower().str.contains(european_countries[i].lower())]))\n",
    "\n",
    "# print the list of european countries with the number of pensionnaires_origine for each country\n",
    "print(european_countries_origine)\n",
    "\n",
    "# sort the list of european countries with the number of pensionnaires_origine for each country\n",
    "european_countries_origine.sort(reverse=True)\n",
    "\n",
    "# print the 3 most common european countries with the associated number of pensionnaires_origine and the name of the european country\n",
    "print(european_countries_origine[0:3], european_countries[european_countries_origine.index(european_countries_origine[0])], european_countries[european_countries_origine.index(european_countries_origine[1])], european_countries[european_countries_origine.index(european_countries_origine[2])])"
   ]
  },
  {
   "cell_type": "code",
   "execution_count": 30,
   "metadata": {},
   "outputs": [
    {
     "name": "stdout",
     "output_type": "stream",
     "text": [
      "['aubonne', 'thurgovie', 'lausanne', 'nstate', 'corsier', 'paudex', 'cant berne', 'badois', 'cully', 'lieu', 'burgistein', 'cugy', 'cant neuch', 'prilly', 'cantelaich', 'cully', 'cant berne', 'anglaire', 'schwitz', 'italien', 'orbe', 'zurich', 'corpnfse', 'ollon', 'lier', 'corlier', 'agovie', 'pully', 'baden', 'prilly', 'brehn', 'lausanne', 'vevey', 'mont', 'larmtadt', 'vilette', 'savernes', 'la vulliee', 'lausanne', 'menenberg', 'lausanne', 'lausann', 'sanninge', 'chavaune', 'berne', 'duillier', 'glaris', 'chugnez', 'horger', 'fribrur', 'kunglan', 'lausanne', 'blancay cn', 'mont preveyre', 'granveaux', 'aigle', 'lausanne', 'montpreveyne', 'de culayes', 'bischotte', 'gournour le ville', 'lausanne', 'ecdiechers', 'frodurlle', 'lovatauz', 'zurich', 'soux sous mujeon', 'lausanne', 'lausanne', 'argovie', 'saud', 'mauraz', 'thurgovie', 'anglais', 'bullet', 'lausanne', 'palegerex', 'guggis borg', 'wulflingen', 'oulens', 'vulliens', 'cant re berne', 'granges', 'id', 'diemontais', 'joulon', 'fhoflande', 'drelde', 'jns lant berne', 'stegane', 'frauen felit', 'chateau d oex', 'evurtenbenberg', 'lausanne', 'montreur', 'sourlens meyery', 'anglais', 'lausanne', 'holandais', 'ropraz', 'zurstem', 'libenstok', 'orbe', 'gumoens', 'bavarois', 'orbe', 'lutry', 'lausanne', 'geneve', 'mauraz', 'orbe', 'la gallee', 'adex', 'schaltens', 'bernoise', 'berne', 'versoix', 'oulens', 'jouxlenes', 'pere de madam', 'villette', 'blonay', 'vich', 'thurgovie', 'montaubion', 'hanovre', 'moudon', 'sasee', 'vevey', 'maumanne bana pensionnaire', 'uchatelois', 'jacoffen ob', 'rlas soleure', 'morrens', '·', 'ecotteaux', 'etey', 'lausanne', 'ballaique', 'collombier', 'lausanne', 'vich', '·', 'lutry', 'tollochenaz', 'yverdon', 'pony', 'anglaise', 'vevey', 'sficth c b', 'chevalles', 'lausanne', 'lausanne', 'corpor vaud', 'thurgovien', 'oulens', 'vimes', 'lausanne', 'villette', 'cosonay', 'st croix', 'aneth', 'uchatel', 'yverdon', 'vallorbes', 'bussigny', 'nyon', 'dorbe', 'lausanne', 'paris', 'de jaz', 'cioucontaier', 'uchatel', 'vangen neuchatel', 'lutry d cully', 'rance', 'lucorporce', 'erlach', 'assens', 'grosgerau', 'corsier', 'monnaz', 'nchateloise', 'gland', 'lausanne', 'chateau d oex', 'treytorrens', 'ligy', 'muhlenberg bone', 'vevey', 'lutry', 'le chenit', 'planches', 'lausanne', 'ollon', 'chigny', 'avenches', 'l abbaye', 'pully pittet', 'lutry', 'lausanne', 'schupfen', 'vuarrens', 's lures', 'sasy moldavie', 'vevey', 'aigle', 'chatelat berney', 'yverdon', 'monsle ville', 'montausion', 'thoune', 'lonset', 'lutry', 'hollandaire', 'piestall', 'ellon', 'cucel nee dubaulog villau fre cro', 'moudon', 'bernois', 'lausanne', 'cilly', 'boudry', 'dommartin', 'lausanne', 'cosle', 'lausanne', 'lausanne', 'lausanne', 'lausanne', 'lausanne', 'ft oyens', 'gueberville', 'zurich', 'lausanne', '·', 'peyene', 'lausanne', 'st gull', 'lugnore', 'lutry', 'corsier', 'renens', 'coss', 'francaise', 'rances', 'la sarraz', 'veneve', 'lugnore', 'cossonnay', 'langnau', 'gessenay', 'france', 'lausanne', 'france', 'france', 'lausanne', 'lausanne', 'villette', 'villette', 'corponfrancaise', 'de penvion', 'de lausanne', 'de bullet', 'de mezery', 'des cossonay', 'de la corporationtaise', 'de la corporation', 'de lausanne', 'de combremont l', 'de colombier', 'francoise', 'de lausanne', 'pully', 'la vallee', 'lutry']\n",
      "[3, 0, 0, 1, 0, 0, 0, 0, 0, 0, 0, 0, 0, 0, 0, 0, 0, 0, 0, 0, 0, 0, 0, 0, 0, 0, 1, 0, 0, 0, 0, 0, 0, 0, 0, 0, 0, 0, 0, 0, 0, 0, 0, 0, 0, 0, 0, 0, 0, 0, 0, 0, 0, 0, 0, 0, 0, 0, 0, 0, 0, 0, 0, 0, 0, 0, 0, 0, 0, 0, 1, 0, 0, 0, 0, 0, 0, 0, 0, 0, 0, 0, 0]\n",
      "[3, 1, 1] France Belgique Belgique\n"
     ]
    }
   ],
   "source": [
    "# 1835 pensionnaires_origine\n",
    "df_origine = []\n",
    "for i in range(len(df_1835)):\n",
    "    for j in range(len(toponyms)):\n",
    "        ## convert to lower case for comparison\n",
    "        if toponyms[\"name\"][j].lower() not in df_1835[\"pensionnaires_origine\"][i].lower():\n",
    "            ## print the values of the toponyms found in the dataframe \"df\" and of the pensionnaires_origine value\n",
    "            # print(\"Toponym found: \", toponyms[\"name\"][j], \" in \", df[\"pensionnaires_origine\"][i])\n",
    "            df_origine.append(df_1835[\"pensionnaires_origine\"][i])\n",
    "            break\n",
    "\n",
    "print(df_origine)\n",
    "\n",
    "european_countries_origine = []\n",
    "for i in range(len(european_countries)):\n",
    "    # check if the lower case of the european country is in the lower case of the pensionnaires_origine\n",
    "    # allow errors in the spelling of the european country\n",
    "    european_countries_origine.append(len(df_1835[df_1835[\"pensionnaires_origine\"].str.lower().str.contains(european_countries[i].lower())]))\n",
    "\n",
    "# print the list of european countries with the number of pensionnaires_origine for each country\n",
    "print(european_countries_origine)\n",
    "\n",
    "# sort the list of european countries with the number of pensionnaires_origine for each country\n",
    "european_countries_origine.sort(reverse=True)\n",
    "\n",
    "# print the 3 most common european countries with the associated number of pensionnaires_origine and the name of the european country\n",
    "print(european_countries_origine[0:3], european_countries[european_countries_origine.index(european_countries_origine[0])], european_countries[european_countries_origine.index(european_countries_origine[1])], european_countries[european_countries_origine.index(european_countries_origine[2])])"
   ]
  },
  {
   "cell_type": "code",
   "execution_count": null,
   "metadata": {},
   "outputs": [],
   "source": []
  }
 ],
 "metadata": {
  "kernelspec": {
   "display_name": "base",
   "language": "python",
   "name": "python3"
  },
  "language_info": {
   "codemirror_mode": {
    "name": "ipython",
    "version": 3
   },
   "file_extension": ".py",
   "mimetype": "text/x-python",
   "name": "python",
   "nbconvert_exporter": "python",
   "pygments_lexer": "ipython3",
   "version": "3.9.13"
  },
  "orig_nbformat": 4
 },
 "nbformat": 4,
 "nbformat_minor": 2
}
